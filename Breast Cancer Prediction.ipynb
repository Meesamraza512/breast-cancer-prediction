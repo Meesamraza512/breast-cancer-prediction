{
 "cells": [
  {
   "cell_type": "markdown",
   "id": "01e6a39d-f620-489b-aff7-be0383e3203a",
   "metadata": {},
   "source": [
    "# Project Title:\n",
    "### Predictive Modeling for Breast Cancer Diagnosis Using Machine Learning\n"
   ]
  },
  {
   "cell_type": "markdown",
   "id": "7d226eb4-82d4-4904-b6a5-48e42092eb1f",
   "metadata": {},
   "source": [
    "# Feature Descriptions for Breast Cancer Dataset\n",
    "\n",
    "- **id**: Unique identifier for each sample.\n",
    "- **diagnosis**: Target variable indicating the diagnosis (**M** = Malignant, **B** = Benign).\n",
    "\n",
    "#### Mean Features:\n",
    "- **radius_mean**: Mean radius of the tumor cells.\n",
    "- **texture_mean**: Mean texture (variation in gray levels) of the tumor cells.\n",
    "- **perimeter_mean**: Mean perimeter of the tumor cells.\n",
    "- **area_mean**: Mean area of the tumor cells.\n",
    "- **smoothness_mean**: Mean smoothness (local variation in radius lengths) of the tumor cells.\n",
    "- **compactness_mean**: Mean compactness (perimeter² / area - 1.0) of the tumor cells.\n",
    "- **concavity_mean**: Mean concavity (severity of concave portions of the contour) of the tumor cells.\n",
    "- **concave points_mean**: Mean number of concave portions of the tumor cell contours.\n",
    "- **symmetry_mean**: Mean symmetry of the tumor cells.\n",
    "- **fractal_dimension_mean**: Mean fractal dimension (\"coastline approximation\") of the tumor cells.\n",
    "\n",
    "#### Standard Error Features:\n",
    "- **radius_se**: Standard error of the radius of the tumor cells.\n",
    "- **texture_se**: Standard error of the texture of the tumor cells.\n",
    "- **perimeter_se**: Standard error of the perimeter of the tumor cells.\n",
    "- **area_se**: Standard error of the area of the tumor cells.\n",
    "- **smoothness_se**: Standard error of the smoothness of the tumor cells.\n",
    "- **compactness_se**: Standard error of the compactness of the tumor cells.\n",
    "- **concavity_se**: Standard error of the concavity of the tumor cells.\n",
    "- **concave points_se**: Standard error of the number of concave portions of the tumor cell contours.\n",
    "- **symmetry_se**: Standard error of the symmetry of the tumor cells.\n",
    "- **fractal_dimension_se**: Standard error of the fractal dimension of the tumor cells.\n",
    "\n",
    "#### Worst (Largest) Features:\n",
    "- **radius_worst**: Largest (worst) radius of the tumor cells.\n",
    "- **texture_worst**: Largest (worst) texture of the tumor cells.\n",
    "- **perimeter_worst**: Largest (worst) perimeter of the tumor cells.\n",
    "- **area_worst**: Largest (worst) area of the tumor cells.\n",
    "- **smoothness_worst**: Largest (worst) smoothness of the tumor cells.\n",
    "- **compactness_worst**: Largest (worst) compactness of the tumor cells.\n",
    "- **concavity_worst**: Largest (worst) concavity of the tumor cells.\n",
    "- **concave points_worst**: Largest (worst) number of concave portions of the tumor cell contours.\n",
    "- **symmetry_worst**: Largest (worst) symmetry of the tumor cells.\n",
    "- **fractal_dimension_worst**: Largest (worst) fractal dimension of the tumor cells.\n"
   ]
  },
  {
   "cell_type": "markdown",
   "id": "2f81c4ec-8980-4caa-a818-38782a600d11",
   "metadata": {},
   "source": [
    "##  Import Libraries"
   ]
  },
  {
   "cell_type": "code",
   "execution_count": 4,
   "id": "076bb197-a14f-41f0-ac1a-bcdfc415aec9",
   "metadata": {},
   "outputs": [],
   "source": [
    "#  Libraries \n",
    "import pandas as pd\n",
    "import numpy as np\n",
    "import matplotlib.pyplot as plt\n",
    "import seaborn as sns\n",
    "from sklearn.model_selection import train_test_split\n",
    "from sklearn.preprocessing import StandardScaler\n",
    "from sklearn.linear_model import LogisticRegression\n",
    "from sklearn.tree import DecisionTreeClassifier\n",
    "from sklearn.ensemble import RandomForestClassifier\n",
    "from sklearn.naive_bayes import GaussianNB\n",
    "from sklearn.svm import SVC\n",
    "from sklearn.preprocessing import StandardScaler\n",
    "from sklearn.metrics import accuracy_score, f1_score, classification_report, confusion_matrix\n",
    "import warnings\n",
    "warnings.filterwarnings(\"ignore\")"
   ]
  },
  {
   "cell_type": "markdown",
   "id": "7f731e31-6f13-43ca-aa42-494cf45d135c",
   "metadata": {},
   "source": [
    "# Load the Cancer Wisconsin dataset"
   ]
  },
  {
   "cell_type": "code",
   "execution_count": 6,
   "id": "31036585-fb44-425a-96bf-836d2e322d69",
   "metadata": {},
   "outputs": [],
   "source": [
    "df = pd.read_csv('Cancer Wisconsin.csv')"
   ]
  },
  {
   "cell_type": "code",
   "execution_count": 7,
   "id": "4fdeb636-2226-43a0-bf36-d5c1812c3811",
   "metadata": {},
   "outputs": [
    {
     "data": {
      "text/html": [
       "<div>\n",
       "<style scoped>\n",
       "    .dataframe tbody tr th:only-of-type {\n",
       "        vertical-align: middle;\n",
       "    }\n",
       "\n",
       "    .dataframe tbody tr th {\n",
       "        vertical-align: top;\n",
       "    }\n",
       "\n",
       "    .dataframe thead th {\n",
       "        text-align: right;\n",
       "    }\n",
       "</style>\n",
       "<table border=\"1\" class=\"dataframe\">\n",
       "  <thead>\n",
       "    <tr style=\"text-align: right;\">\n",
       "      <th></th>\n",
       "      <th>id</th>\n",
       "      <th>diagnosis</th>\n",
       "      <th>radius_mean</th>\n",
       "      <th>texture_mean</th>\n",
       "      <th>perimeter_mean</th>\n",
       "      <th>area_mean</th>\n",
       "      <th>smoothness_mean</th>\n",
       "      <th>compactness_mean</th>\n",
       "      <th>concavity_mean</th>\n",
       "      <th>concave points_mean</th>\n",
       "      <th>...</th>\n",
       "      <th>texture_worst</th>\n",
       "      <th>perimeter_worst</th>\n",
       "      <th>area_worst</th>\n",
       "      <th>smoothness_worst</th>\n",
       "      <th>compactness_worst</th>\n",
       "      <th>concavity_worst</th>\n",
       "      <th>concave points_worst</th>\n",
       "      <th>symmetry_worst</th>\n",
       "      <th>fractal_dimension_worst</th>\n",
       "      <th>Unnamed: 32</th>\n",
       "    </tr>\n",
       "  </thead>\n",
       "  <tbody>\n",
       "    <tr>\n",
       "      <th>0</th>\n",
       "      <td>842302</td>\n",
       "      <td>M</td>\n",
       "      <td>17.99</td>\n",
       "      <td>10.38</td>\n",
       "      <td>122.80</td>\n",
       "      <td>1001.0</td>\n",
       "      <td>0.11840</td>\n",
       "      <td>0.27760</td>\n",
       "      <td>0.3001</td>\n",
       "      <td>0.14710</td>\n",
       "      <td>...</td>\n",
       "      <td>17.33</td>\n",
       "      <td>184.60</td>\n",
       "      <td>2019.0</td>\n",
       "      <td>0.1622</td>\n",
       "      <td>0.6656</td>\n",
       "      <td>0.7119</td>\n",
       "      <td>0.2654</td>\n",
       "      <td>0.4601</td>\n",
       "      <td>0.11890</td>\n",
       "      <td>NaN</td>\n",
       "    </tr>\n",
       "    <tr>\n",
       "      <th>1</th>\n",
       "      <td>842517</td>\n",
       "      <td>M</td>\n",
       "      <td>20.57</td>\n",
       "      <td>17.77</td>\n",
       "      <td>132.90</td>\n",
       "      <td>1326.0</td>\n",
       "      <td>0.08474</td>\n",
       "      <td>0.07864</td>\n",
       "      <td>0.0869</td>\n",
       "      <td>0.07017</td>\n",
       "      <td>...</td>\n",
       "      <td>23.41</td>\n",
       "      <td>158.80</td>\n",
       "      <td>1956.0</td>\n",
       "      <td>0.1238</td>\n",
       "      <td>0.1866</td>\n",
       "      <td>0.2416</td>\n",
       "      <td>0.1860</td>\n",
       "      <td>0.2750</td>\n",
       "      <td>0.08902</td>\n",
       "      <td>NaN</td>\n",
       "    </tr>\n",
       "    <tr>\n",
       "      <th>2</th>\n",
       "      <td>84300903</td>\n",
       "      <td>M</td>\n",
       "      <td>19.69</td>\n",
       "      <td>21.25</td>\n",
       "      <td>130.00</td>\n",
       "      <td>1203.0</td>\n",
       "      <td>0.10960</td>\n",
       "      <td>0.15990</td>\n",
       "      <td>0.1974</td>\n",
       "      <td>0.12790</td>\n",
       "      <td>...</td>\n",
       "      <td>25.53</td>\n",
       "      <td>152.50</td>\n",
       "      <td>1709.0</td>\n",
       "      <td>0.1444</td>\n",
       "      <td>0.4245</td>\n",
       "      <td>0.4504</td>\n",
       "      <td>0.2430</td>\n",
       "      <td>0.3613</td>\n",
       "      <td>0.08758</td>\n",
       "      <td>NaN</td>\n",
       "    </tr>\n",
       "    <tr>\n",
       "      <th>3</th>\n",
       "      <td>84348301</td>\n",
       "      <td>M</td>\n",
       "      <td>11.42</td>\n",
       "      <td>20.38</td>\n",
       "      <td>77.58</td>\n",
       "      <td>386.1</td>\n",
       "      <td>0.14250</td>\n",
       "      <td>0.28390</td>\n",
       "      <td>0.2414</td>\n",
       "      <td>0.10520</td>\n",
       "      <td>...</td>\n",
       "      <td>26.50</td>\n",
       "      <td>98.87</td>\n",
       "      <td>567.7</td>\n",
       "      <td>0.2098</td>\n",
       "      <td>0.8663</td>\n",
       "      <td>0.6869</td>\n",
       "      <td>0.2575</td>\n",
       "      <td>0.6638</td>\n",
       "      <td>0.17300</td>\n",
       "      <td>NaN</td>\n",
       "    </tr>\n",
       "    <tr>\n",
       "      <th>4</th>\n",
       "      <td>84358402</td>\n",
       "      <td>M</td>\n",
       "      <td>20.29</td>\n",
       "      <td>14.34</td>\n",
       "      <td>135.10</td>\n",
       "      <td>1297.0</td>\n",
       "      <td>0.10030</td>\n",
       "      <td>0.13280</td>\n",
       "      <td>0.1980</td>\n",
       "      <td>0.10430</td>\n",
       "      <td>...</td>\n",
       "      <td>16.67</td>\n",
       "      <td>152.20</td>\n",
       "      <td>1575.0</td>\n",
       "      <td>0.1374</td>\n",
       "      <td>0.2050</td>\n",
       "      <td>0.4000</td>\n",
       "      <td>0.1625</td>\n",
       "      <td>0.2364</td>\n",
       "      <td>0.07678</td>\n",
       "      <td>NaN</td>\n",
       "    </tr>\n",
       "  </tbody>\n",
       "</table>\n",
       "<p>5 rows × 33 columns</p>\n",
       "</div>"
      ],
      "text/plain": [
       "         id diagnosis  radius_mean  texture_mean  perimeter_mean  area_mean  \\\n",
       "0    842302         M        17.99         10.38          122.80     1001.0   \n",
       "1    842517         M        20.57         17.77          132.90     1326.0   \n",
       "2  84300903         M        19.69         21.25          130.00     1203.0   \n",
       "3  84348301         M        11.42         20.38           77.58      386.1   \n",
       "4  84358402         M        20.29         14.34          135.10     1297.0   \n",
       "\n",
       "   smoothness_mean  compactness_mean  concavity_mean  concave points_mean  \\\n",
       "0          0.11840           0.27760          0.3001              0.14710   \n",
       "1          0.08474           0.07864          0.0869              0.07017   \n",
       "2          0.10960           0.15990          0.1974              0.12790   \n",
       "3          0.14250           0.28390          0.2414              0.10520   \n",
       "4          0.10030           0.13280          0.1980              0.10430   \n",
       "\n",
       "   ...  texture_worst  perimeter_worst  area_worst  smoothness_worst  \\\n",
       "0  ...          17.33           184.60      2019.0            0.1622   \n",
       "1  ...          23.41           158.80      1956.0            0.1238   \n",
       "2  ...          25.53           152.50      1709.0            0.1444   \n",
       "3  ...          26.50            98.87       567.7            0.2098   \n",
       "4  ...          16.67           152.20      1575.0            0.1374   \n",
       "\n",
       "   compactness_worst  concavity_worst  concave points_worst  symmetry_worst  \\\n",
       "0             0.6656           0.7119                0.2654          0.4601   \n",
       "1             0.1866           0.2416                0.1860          0.2750   \n",
       "2             0.4245           0.4504                0.2430          0.3613   \n",
       "3             0.8663           0.6869                0.2575          0.6638   \n",
       "4             0.2050           0.4000                0.1625          0.2364   \n",
       "\n",
       "   fractal_dimension_worst  Unnamed: 32  \n",
       "0                  0.11890          NaN  \n",
       "1                  0.08902          NaN  \n",
       "2                  0.08758          NaN  \n",
       "3                  0.17300          NaN  \n",
       "4                  0.07678          NaN  \n",
       "\n",
       "[5 rows x 33 columns]"
      ]
     },
     "execution_count": 7,
     "metadata": {},
     "output_type": "execute_result"
    }
   ],
   "source": [
    " df.head()"
   ]
  },
  {
   "cell_type": "markdown",
   "id": "f2766dea-b35d-483e-a8e0-f32dab30a6de",
   "metadata": {},
   "source": [
    "# Information of dataset"
   ]
  },
  {
   "cell_type": "code",
   "execution_count": 9,
   "id": "71b70781-f92f-47bc-a375-45bca6c7ef59",
   "metadata": {},
   "outputs": [
    {
     "data": {
      "text/plain": [
       "(569, 33)"
      ]
     },
     "execution_count": 9,
     "metadata": {},
     "output_type": "execute_result"
    }
   ],
   "source": [
    " df.shape"
   ]
  },
  {
   "cell_type": "code",
   "execution_count": 10,
   "id": "d5ec710e-f2af-4720-950a-2e6d95197cc6",
   "metadata": {},
   "outputs": [
    {
     "name": "stdout",
     "output_type": "stream",
     "text": [
      "<class 'pandas.core.frame.DataFrame'>\n",
      "RangeIndex: 569 entries, 0 to 568\n",
      "Data columns (total 33 columns):\n",
      " #   Column                   Non-Null Count  Dtype  \n",
      "---  ------                   --------------  -----  \n",
      " 0   id                       569 non-null    int64  \n",
      " 1   diagnosis                569 non-null    object \n",
      " 2   radius_mean              569 non-null    float64\n",
      " 3   texture_mean             569 non-null    float64\n",
      " 4   perimeter_mean           569 non-null    float64\n",
      " 5   area_mean                569 non-null    float64\n",
      " 6   smoothness_mean          569 non-null    float64\n",
      " 7   compactness_mean         569 non-null    float64\n",
      " 8   concavity_mean           569 non-null    float64\n",
      " 9   concave points_mean      569 non-null    float64\n",
      " 10  symmetry_mean            569 non-null    float64\n",
      " 11  fractal_dimension_mean   569 non-null    float64\n",
      " 12  radius_se                569 non-null    float64\n",
      " 13  texture_se               569 non-null    float64\n",
      " 14  perimeter_se             569 non-null    float64\n",
      " 15  area_se                  569 non-null    float64\n",
      " 16  smoothness_se            569 non-null    float64\n",
      " 17  compactness_se           569 non-null    float64\n",
      " 18  concavity_se             569 non-null    float64\n",
      " 19  concave points_se        569 non-null    float64\n",
      " 20  symmetry_se              569 non-null    float64\n",
      " 21  fractal_dimension_se     569 non-null    float64\n",
      " 22  radius_worst             569 non-null    float64\n",
      " 23  texture_worst            569 non-null    float64\n",
      " 24  perimeter_worst          569 non-null    float64\n",
      " 25  area_worst               569 non-null    float64\n",
      " 26  smoothness_worst         569 non-null    float64\n",
      " 27  compactness_worst        569 non-null    float64\n",
      " 28  concavity_worst          569 non-null    float64\n",
      " 29  concave points_worst     569 non-null    float64\n",
      " 30  symmetry_worst           569 non-null    float64\n",
      " 31  fractal_dimension_worst  569 non-null    float64\n",
      " 32  Unnamed: 32              0 non-null      float64\n",
      "dtypes: float64(31), int64(1), object(1)\n",
      "memory usage: 146.8+ KB\n"
     ]
    }
   ],
   "source": [
    "df.info()"
   ]
  },
  {
   "cell_type": "markdown",
   "id": "ddbddf44-3da7-44be-af6a-02d2ccbf07fd",
   "metadata": {},
   "source": [
    "# Check The Column Names"
   ]
  },
  {
   "cell_type": "code",
   "execution_count": 12,
   "id": "902e4a6f-829b-4b6b-b04b-3fba4c7f0124",
   "metadata": {},
   "outputs": [
    {
     "data": {
      "text/plain": [
       "Index(['id', 'diagnosis', 'radius_mean', 'texture_mean', 'perimeter_mean',\n",
       "       'area_mean', 'smoothness_mean', 'compactness_mean', 'concavity_mean',\n",
       "       'concave points_mean', 'symmetry_mean', 'fractal_dimension_mean',\n",
       "       'radius_se', 'texture_se', 'perimeter_se', 'area_se', 'smoothness_se',\n",
       "       'compactness_se', 'concavity_se', 'concave points_se', 'symmetry_se',\n",
       "       'fractal_dimension_se', 'radius_worst', 'texture_worst',\n",
       "       'perimeter_worst', 'area_worst', 'smoothness_worst',\n",
       "       'compactness_worst', 'concavity_worst', 'concave points_worst',\n",
       "       'symmetry_worst', 'fractal_dimension_worst', 'Unnamed: 32'],\n",
       "      dtype='object')"
      ]
     },
     "execution_count": 12,
     "metadata": {},
     "output_type": "execute_result"
    }
   ],
   "source": [
    "df.columns"
   ]
  },
  {
   "cell_type": "markdown",
   "id": "e9226fc7-7f14-4161-adc2-4e7af319d8bd",
   "metadata": {},
   "source": [
    "# Rename The Columns"
   ]
  },
  {
   "cell_type": "code",
   "execution_count": 20,
   "id": "3971584c-1aee-476d-9ad2-2a47118a56e8",
   "metadata": {},
   "outputs": [],
   "source": [
    "df = df.rename(columns={\n",
    "    'concave points_mean': 'concave_points_mean',\n",
    "    'concave points_worst': 'concave_points_worst',\n",
    "})"
   ]
  },
  {
   "cell_type": "markdown",
   "id": "ca663666-21e0-43d6-9bc3-16e9967422c9",
   "metadata": {},
   "source": [
    "# Data Cleaning"
   ]
  },
  {
   "cell_type": "code",
   "execution_count": 23,
   "id": "65ed0325-ccfe-43b6-881b-4ade3c51e4a4",
   "metadata": {},
   "outputs": [
    {
     "name": "stdout",
     "output_type": "stream",
     "text": [
      "\n",
      "Missing Values:\n",
      " id                           0\n",
      "diagnosis                    0\n",
      "radius_mean                  0\n",
      "texture_mean                 0\n",
      "perimeter_mean               0\n",
      "area_mean                    0\n",
      "smoothness_mean              0\n",
      "compactness_mean             0\n",
      "concavity_mean               0\n",
      "concave_points_mean          0\n",
      "symmetry_mean                0\n",
      "fractal_dimension_mean       0\n",
      "radius_se                    0\n",
      "texture_se                   0\n",
      "perimeter_se                 0\n",
      "area_se                      0\n",
      "smoothness_se                0\n",
      "compactness_se               0\n",
      "concavity_se                 0\n",
      "concave points_se            0\n",
      "symmetry_se                  0\n",
      "fractal_dimension_se         0\n",
      "radius_worst                 0\n",
      "texture_worst                0\n",
      "perimeter_worst              0\n",
      "area_worst                   0\n",
      "smoothness_worst             0\n",
      "compactness_worst            0\n",
      "concavity_worst              0\n",
      "concave_points_worst         0\n",
      "symmetry_worst               0\n",
      "fractal_dimension_worst      0\n",
      "Unnamed: 32                569\n",
      "dtype: int64\n"
     ]
    }
   ],
   "source": [
    "# Check for missing values\n",
    "print(\"\\nMissing Values:\\n\", df.isnull().sum())"
   ]
  },
  {
   "cell_type": "code",
   "execution_count": 25,
   "id": "2b5c0b52-8230-4b64-b8c1-f659f8b2477b",
   "metadata": {},
   "outputs": [],
   "source": [
    "# Drop Unwanted Columns \n",
    "df.drop(['id', 'Unnamed: 32'], axis=1, inplace=True)"
   ]
  },
  {
   "cell_type": "code",
   "execution_count": 27,
   "id": "d5a575bf-5639-4134-846d-dd64fc5dd31e",
   "metadata": {},
   "outputs": [
    {
     "data": {
      "text/plain": [
       "diagnosis\n",
       "B    357\n",
       "M    212\n",
       "Name: count, dtype: int64"
      ]
     },
     "execution_count": 27,
     "metadata": {},
     "output_type": "execute_result"
    }
   ],
   "source": [
    "# Check the balance of the target classes\n",
    "df['diagnosis'].value_counts()\n"
   ]
  },
  {
   "cell_type": "code",
   "execution_count": 29,
   "id": "7bfeb8bb-185e-4f92-931d-8b72693bafc7",
   "metadata": {},
   "outputs": [],
   "source": [
    "# Change The Diagnosis in Numeric (M=1, B=0)\n",
    "df['diagnosis'] = df['diagnosis'].map({'M':1, 'B':0})"
   ]
  },
  {
   "cell_type": "markdown",
   "id": "a65e391f-c2f3-4fe8-9840-52a2ab778002",
   "metadata": {},
   "source": [
    "# Check The Duplicate Values"
   ]
  },
  {
   "cell_type": "code",
   "execution_count": 32,
   "id": "391b4d24-d4e0-48af-bb6a-af9c3732f804",
   "metadata": {},
   "outputs": [
    {
     "data": {
      "text/plain": [
       "0"
      ]
     },
     "execution_count": 32,
     "metadata": {},
     "output_type": "execute_result"
    }
   ],
   "source": [
    "# check the duplicate values\n",
    "df.duplicated().sum()\n"
   ]
  },
  {
   "cell_type": "markdown",
   "id": "f5af4967-794e-455e-8d4b-fb60eb544079",
   "metadata": {},
   "source": [
    "# Summary Statistics"
   ]
  },
  {
   "cell_type": "code",
   "execution_count": 35,
   "id": "7f3bdb87-6d5b-4ebe-a604-d69829e465ff",
   "metadata": {},
   "outputs": [
    {
     "data": {
      "text/html": [
       "<div>\n",
       "<style scoped>\n",
       "    .dataframe tbody tr th:only-of-type {\n",
       "        vertical-align: middle;\n",
       "    }\n",
       "\n",
       "    .dataframe tbody tr th {\n",
       "        vertical-align: top;\n",
       "    }\n",
       "\n",
       "    .dataframe thead th {\n",
       "        text-align: right;\n",
       "    }\n",
       "</style>\n",
       "<table border=\"1\" class=\"dataframe\">\n",
       "  <thead>\n",
       "    <tr style=\"text-align: right;\">\n",
       "      <th></th>\n",
       "      <th>count</th>\n",
       "      <th>mean</th>\n",
       "      <th>std</th>\n",
       "      <th>min</th>\n",
       "      <th>25%</th>\n",
       "      <th>50%</th>\n",
       "      <th>75%</th>\n",
       "      <th>max</th>\n",
       "    </tr>\n",
       "  </thead>\n",
       "  <tbody>\n",
       "    <tr>\n",
       "      <th>diagnosis</th>\n",
       "      <td>569.0</td>\n",
       "      <td>0.372583</td>\n",
       "      <td>0.483918</td>\n",
       "      <td>0.000000</td>\n",
       "      <td>0.000000</td>\n",
       "      <td>0.000000</td>\n",
       "      <td>1.000000</td>\n",
       "      <td>1.00000</td>\n",
       "    </tr>\n",
       "    <tr>\n",
       "      <th>radius_mean</th>\n",
       "      <td>569.0</td>\n",
       "      <td>14.127292</td>\n",
       "      <td>3.524049</td>\n",
       "      <td>6.981000</td>\n",
       "      <td>11.700000</td>\n",
       "      <td>13.370000</td>\n",
       "      <td>15.780000</td>\n",
       "      <td>28.11000</td>\n",
       "    </tr>\n",
       "    <tr>\n",
       "      <th>texture_mean</th>\n",
       "      <td>569.0</td>\n",
       "      <td>19.289649</td>\n",
       "      <td>4.301036</td>\n",
       "      <td>9.710000</td>\n",
       "      <td>16.170000</td>\n",
       "      <td>18.840000</td>\n",
       "      <td>21.800000</td>\n",
       "      <td>39.28000</td>\n",
       "    </tr>\n",
       "    <tr>\n",
       "      <th>perimeter_mean</th>\n",
       "      <td>569.0</td>\n",
       "      <td>91.969033</td>\n",
       "      <td>24.298981</td>\n",
       "      <td>43.790000</td>\n",
       "      <td>75.170000</td>\n",
       "      <td>86.240000</td>\n",
       "      <td>104.100000</td>\n",
       "      <td>188.50000</td>\n",
       "    </tr>\n",
       "    <tr>\n",
       "      <th>area_mean</th>\n",
       "      <td>569.0</td>\n",
       "      <td>654.889104</td>\n",
       "      <td>351.914129</td>\n",
       "      <td>143.500000</td>\n",
       "      <td>420.300000</td>\n",
       "      <td>551.100000</td>\n",
       "      <td>782.700000</td>\n",
       "      <td>2501.00000</td>\n",
       "    </tr>\n",
       "    <tr>\n",
       "      <th>smoothness_mean</th>\n",
       "      <td>569.0</td>\n",
       "      <td>0.096360</td>\n",
       "      <td>0.014064</td>\n",
       "      <td>0.052630</td>\n",
       "      <td>0.086370</td>\n",
       "      <td>0.095870</td>\n",
       "      <td>0.105300</td>\n",
       "      <td>0.16340</td>\n",
       "    </tr>\n",
       "    <tr>\n",
       "      <th>compactness_mean</th>\n",
       "      <td>569.0</td>\n",
       "      <td>0.104341</td>\n",
       "      <td>0.052813</td>\n",
       "      <td>0.019380</td>\n",
       "      <td>0.064920</td>\n",
       "      <td>0.092630</td>\n",
       "      <td>0.130400</td>\n",
       "      <td>0.34540</td>\n",
       "    </tr>\n",
       "    <tr>\n",
       "      <th>concavity_mean</th>\n",
       "      <td>569.0</td>\n",
       "      <td>0.088799</td>\n",
       "      <td>0.079720</td>\n",
       "      <td>0.000000</td>\n",
       "      <td>0.029560</td>\n",
       "      <td>0.061540</td>\n",
       "      <td>0.130700</td>\n",
       "      <td>0.42680</td>\n",
       "    </tr>\n",
       "    <tr>\n",
       "      <th>concave_points_mean</th>\n",
       "      <td>569.0</td>\n",
       "      <td>0.048919</td>\n",
       "      <td>0.038803</td>\n",
       "      <td>0.000000</td>\n",
       "      <td>0.020310</td>\n",
       "      <td>0.033500</td>\n",
       "      <td>0.074000</td>\n",
       "      <td>0.20120</td>\n",
       "    </tr>\n",
       "    <tr>\n",
       "      <th>symmetry_mean</th>\n",
       "      <td>569.0</td>\n",
       "      <td>0.181162</td>\n",
       "      <td>0.027414</td>\n",
       "      <td>0.106000</td>\n",
       "      <td>0.161900</td>\n",
       "      <td>0.179200</td>\n",
       "      <td>0.195700</td>\n",
       "      <td>0.30400</td>\n",
       "    </tr>\n",
       "    <tr>\n",
       "      <th>fractal_dimension_mean</th>\n",
       "      <td>569.0</td>\n",
       "      <td>0.062798</td>\n",
       "      <td>0.007060</td>\n",
       "      <td>0.049960</td>\n",
       "      <td>0.057700</td>\n",
       "      <td>0.061540</td>\n",
       "      <td>0.066120</td>\n",
       "      <td>0.09744</td>\n",
       "    </tr>\n",
       "    <tr>\n",
       "      <th>radius_se</th>\n",
       "      <td>569.0</td>\n",
       "      <td>0.405172</td>\n",
       "      <td>0.277313</td>\n",
       "      <td>0.111500</td>\n",
       "      <td>0.232400</td>\n",
       "      <td>0.324200</td>\n",
       "      <td>0.478900</td>\n",
       "      <td>2.87300</td>\n",
       "    </tr>\n",
       "    <tr>\n",
       "      <th>texture_se</th>\n",
       "      <td>569.0</td>\n",
       "      <td>1.216853</td>\n",
       "      <td>0.551648</td>\n",
       "      <td>0.360200</td>\n",
       "      <td>0.833900</td>\n",
       "      <td>1.108000</td>\n",
       "      <td>1.474000</td>\n",
       "      <td>4.88500</td>\n",
       "    </tr>\n",
       "    <tr>\n",
       "      <th>perimeter_se</th>\n",
       "      <td>569.0</td>\n",
       "      <td>2.866059</td>\n",
       "      <td>2.021855</td>\n",
       "      <td>0.757000</td>\n",
       "      <td>1.606000</td>\n",
       "      <td>2.287000</td>\n",
       "      <td>3.357000</td>\n",
       "      <td>21.98000</td>\n",
       "    </tr>\n",
       "    <tr>\n",
       "      <th>area_se</th>\n",
       "      <td>569.0</td>\n",
       "      <td>40.337079</td>\n",
       "      <td>45.491006</td>\n",
       "      <td>6.802000</td>\n",
       "      <td>17.850000</td>\n",
       "      <td>24.530000</td>\n",
       "      <td>45.190000</td>\n",
       "      <td>542.20000</td>\n",
       "    </tr>\n",
       "    <tr>\n",
       "      <th>smoothness_se</th>\n",
       "      <td>569.0</td>\n",
       "      <td>0.007041</td>\n",
       "      <td>0.003003</td>\n",
       "      <td>0.001713</td>\n",
       "      <td>0.005169</td>\n",
       "      <td>0.006380</td>\n",
       "      <td>0.008146</td>\n",
       "      <td>0.03113</td>\n",
       "    </tr>\n",
       "    <tr>\n",
       "      <th>compactness_se</th>\n",
       "      <td>569.0</td>\n",
       "      <td>0.025478</td>\n",
       "      <td>0.017908</td>\n",
       "      <td>0.002252</td>\n",
       "      <td>0.013080</td>\n",
       "      <td>0.020450</td>\n",
       "      <td>0.032450</td>\n",
       "      <td>0.13540</td>\n",
       "    </tr>\n",
       "    <tr>\n",
       "      <th>concavity_se</th>\n",
       "      <td>569.0</td>\n",
       "      <td>0.031894</td>\n",
       "      <td>0.030186</td>\n",
       "      <td>0.000000</td>\n",
       "      <td>0.015090</td>\n",
       "      <td>0.025890</td>\n",
       "      <td>0.042050</td>\n",
       "      <td>0.39600</td>\n",
       "    </tr>\n",
       "    <tr>\n",
       "      <th>concave points_se</th>\n",
       "      <td>569.0</td>\n",
       "      <td>0.011796</td>\n",
       "      <td>0.006170</td>\n",
       "      <td>0.000000</td>\n",
       "      <td>0.007638</td>\n",
       "      <td>0.010930</td>\n",
       "      <td>0.014710</td>\n",
       "      <td>0.05279</td>\n",
       "    </tr>\n",
       "    <tr>\n",
       "      <th>symmetry_se</th>\n",
       "      <td>569.0</td>\n",
       "      <td>0.020542</td>\n",
       "      <td>0.008266</td>\n",
       "      <td>0.007882</td>\n",
       "      <td>0.015160</td>\n",
       "      <td>0.018730</td>\n",
       "      <td>0.023480</td>\n",
       "      <td>0.07895</td>\n",
       "    </tr>\n",
       "    <tr>\n",
       "      <th>fractal_dimension_se</th>\n",
       "      <td>569.0</td>\n",
       "      <td>0.003795</td>\n",
       "      <td>0.002646</td>\n",
       "      <td>0.000895</td>\n",
       "      <td>0.002248</td>\n",
       "      <td>0.003187</td>\n",
       "      <td>0.004558</td>\n",
       "      <td>0.02984</td>\n",
       "    </tr>\n",
       "    <tr>\n",
       "      <th>radius_worst</th>\n",
       "      <td>569.0</td>\n",
       "      <td>16.269190</td>\n",
       "      <td>4.833242</td>\n",
       "      <td>7.930000</td>\n",
       "      <td>13.010000</td>\n",
       "      <td>14.970000</td>\n",
       "      <td>18.790000</td>\n",
       "      <td>36.04000</td>\n",
       "    </tr>\n",
       "    <tr>\n",
       "      <th>texture_worst</th>\n",
       "      <td>569.0</td>\n",
       "      <td>25.677223</td>\n",
       "      <td>6.146258</td>\n",
       "      <td>12.020000</td>\n",
       "      <td>21.080000</td>\n",
       "      <td>25.410000</td>\n",
       "      <td>29.720000</td>\n",
       "      <td>49.54000</td>\n",
       "    </tr>\n",
       "    <tr>\n",
       "      <th>perimeter_worst</th>\n",
       "      <td>569.0</td>\n",
       "      <td>107.261213</td>\n",
       "      <td>33.602542</td>\n",
       "      <td>50.410000</td>\n",
       "      <td>84.110000</td>\n",
       "      <td>97.660000</td>\n",
       "      <td>125.400000</td>\n",
       "      <td>251.20000</td>\n",
       "    </tr>\n",
       "    <tr>\n",
       "      <th>area_worst</th>\n",
       "      <td>569.0</td>\n",
       "      <td>880.583128</td>\n",
       "      <td>569.356993</td>\n",
       "      <td>185.200000</td>\n",
       "      <td>515.300000</td>\n",
       "      <td>686.500000</td>\n",
       "      <td>1084.000000</td>\n",
       "      <td>4254.00000</td>\n",
       "    </tr>\n",
       "    <tr>\n",
       "      <th>smoothness_worst</th>\n",
       "      <td>569.0</td>\n",
       "      <td>0.132369</td>\n",
       "      <td>0.022832</td>\n",
       "      <td>0.071170</td>\n",
       "      <td>0.116600</td>\n",
       "      <td>0.131300</td>\n",
       "      <td>0.146000</td>\n",
       "      <td>0.22260</td>\n",
       "    </tr>\n",
       "    <tr>\n",
       "      <th>compactness_worst</th>\n",
       "      <td>569.0</td>\n",
       "      <td>0.254265</td>\n",
       "      <td>0.157336</td>\n",
       "      <td>0.027290</td>\n",
       "      <td>0.147200</td>\n",
       "      <td>0.211900</td>\n",
       "      <td>0.339100</td>\n",
       "      <td>1.05800</td>\n",
       "    </tr>\n",
       "    <tr>\n",
       "      <th>concavity_worst</th>\n",
       "      <td>569.0</td>\n",
       "      <td>0.272188</td>\n",
       "      <td>0.208624</td>\n",
       "      <td>0.000000</td>\n",
       "      <td>0.114500</td>\n",
       "      <td>0.226700</td>\n",
       "      <td>0.382900</td>\n",
       "      <td>1.25200</td>\n",
       "    </tr>\n",
       "    <tr>\n",
       "      <th>concave_points_worst</th>\n",
       "      <td>569.0</td>\n",
       "      <td>0.114606</td>\n",
       "      <td>0.065732</td>\n",
       "      <td>0.000000</td>\n",
       "      <td>0.064930</td>\n",
       "      <td>0.099930</td>\n",
       "      <td>0.161400</td>\n",
       "      <td>0.29100</td>\n",
       "    </tr>\n",
       "    <tr>\n",
       "      <th>symmetry_worst</th>\n",
       "      <td>569.0</td>\n",
       "      <td>0.290076</td>\n",
       "      <td>0.061867</td>\n",
       "      <td>0.156500</td>\n",
       "      <td>0.250400</td>\n",
       "      <td>0.282200</td>\n",
       "      <td>0.317900</td>\n",
       "      <td>0.66380</td>\n",
       "    </tr>\n",
       "    <tr>\n",
       "      <th>fractal_dimension_worst</th>\n",
       "      <td>569.0</td>\n",
       "      <td>0.083946</td>\n",
       "      <td>0.018061</td>\n",
       "      <td>0.055040</td>\n",
       "      <td>0.071460</td>\n",
       "      <td>0.080040</td>\n",
       "      <td>0.092080</td>\n",
       "      <td>0.20750</td>\n",
       "    </tr>\n",
       "  </tbody>\n",
       "</table>\n",
       "</div>"
      ],
      "text/plain": [
       "                         count        mean         std         min  \\\n",
       "diagnosis                569.0    0.372583    0.483918    0.000000   \n",
       "radius_mean              569.0   14.127292    3.524049    6.981000   \n",
       "texture_mean             569.0   19.289649    4.301036    9.710000   \n",
       "perimeter_mean           569.0   91.969033   24.298981   43.790000   \n",
       "area_mean                569.0  654.889104  351.914129  143.500000   \n",
       "smoothness_mean          569.0    0.096360    0.014064    0.052630   \n",
       "compactness_mean         569.0    0.104341    0.052813    0.019380   \n",
       "concavity_mean           569.0    0.088799    0.079720    0.000000   \n",
       "concave_points_mean      569.0    0.048919    0.038803    0.000000   \n",
       "symmetry_mean            569.0    0.181162    0.027414    0.106000   \n",
       "fractal_dimension_mean   569.0    0.062798    0.007060    0.049960   \n",
       "radius_se                569.0    0.405172    0.277313    0.111500   \n",
       "texture_se               569.0    1.216853    0.551648    0.360200   \n",
       "perimeter_se             569.0    2.866059    2.021855    0.757000   \n",
       "area_se                  569.0   40.337079   45.491006    6.802000   \n",
       "smoothness_se            569.0    0.007041    0.003003    0.001713   \n",
       "compactness_se           569.0    0.025478    0.017908    0.002252   \n",
       "concavity_se             569.0    0.031894    0.030186    0.000000   \n",
       "concave points_se        569.0    0.011796    0.006170    0.000000   \n",
       "symmetry_se              569.0    0.020542    0.008266    0.007882   \n",
       "fractal_dimension_se     569.0    0.003795    0.002646    0.000895   \n",
       "radius_worst             569.0   16.269190    4.833242    7.930000   \n",
       "texture_worst            569.0   25.677223    6.146258   12.020000   \n",
       "perimeter_worst          569.0  107.261213   33.602542   50.410000   \n",
       "area_worst               569.0  880.583128  569.356993  185.200000   \n",
       "smoothness_worst         569.0    0.132369    0.022832    0.071170   \n",
       "compactness_worst        569.0    0.254265    0.157336    0.027290   \n",
       "concavity_worst          569.0    0.272188    0.208624    0.000000   \n",
       "concave_points_worst     569.0    0.114606    0.065732    0.000000   \n",
       "symmetry_worst           569.0    0.290076    0.061867    0.156500   \n",
       "fractal_dimension_worst  569.0    0.083946    0.018061    0.055040   \n",
       "\n",
       "                                25%         50%          75%         max  \n",
       "diagnosis                  0.000000    0.000000     1.000000     1.00000  \n",
       "radius_mean               11.700000   13.370000    15.780000    28.11000  \n",
       "texture_mean              16.170000   18.840000    21.800000    39.28000  \n",
       "perimeter_mean            75.170000   86.240000   104.100000   188.50000  \n",
       "area_mean                420.300000  551.100000   782.700000  2501.00000  \n",
       "smoothness_mean            0.086370    0.095870     0.105300     0.16340  \n",
       "compactness_mean           0.064920    0.092630     0.130400     0.34540  \n",
       "concavity_mean             0.029560    0.061540     0.130700     0.42680  \n",
       "concave_points_mean        0.020310    0.033500     0.074000     0.20120  \n",
       "symmetry_mean              0.161900    0.179200     0.195700     0.30400  \n",
       "fractal_dimension_mean     0.057700    0.061540     0.066120     0.09744  \n",
       "radius_se                  0.232400    0.324200     0.478900     2.87300  \n",
       "texture_se                 0.833900    1.108000     1.474000     4.88500  \n",
       "perimeter_se               1.606000    2.287000     3.357000    21.98000  \n",
       "area_se                   17.850000   24.530000    45.190000   542.20000  \n",
       "smoothness_se              0.005169    0.006380     0.008146     0.03113  \n",
       "compactness_se             0.013080    0.020450     0.032450     0.13540  \n",
       "concavity_se               0.015090    0.025890     0.042050     0.39600  \n",
       "concave points_se          0.007638    0.010930     0.014710     0.05279  \n",
       "symmetry_se                0.015160    0.018730     0.023480     0.07895  \n",
       "fractal_dimension_se       0.002248    0.003187     0.004558     0.02984  \n",
       "radius_worst              13.010000   14.970000    18.790000    36.04000  \n",
       "texture_worst             21.080000   25.410000    29.720000    49.54000  \n",
       "perimeter_worst           84.110000   97.660000   125.400000   251.20000  \n",
       "area_worst               515.300000  686.500000  1084.000000  4254.00000  \n",
       "smoothness_worst           0.116600    0.131300     0.146000     0.22260  \n",
       "compactness_worst          0.147200    0.211900     0.339100     1.05800  \n",
       "concavity_worst            0.114500    0.226700     0.382900     1.25200  \n",
       "concave_points_worst       0.064930    0.099930     0.161400     0.29100  \n",
       "symmetry_worst             0.250400    0.282200     0.317900     0.66380  \n",
       "fractal_dimension_worst    0.071460    0.080040     0.092080     0.20750  "
      ]
     },
     "execution_count": 35,
     "metadata": {},
     "output_type": "execute_result"
    }
   ],
   "source": [
    "df.describe().T"
   ]
  },
  {
   "cell_type": "code",
   "execution_count": null,
   "id": "b50aee84-5e47-4f60-830b-95bd90cb03ca",
   "metadata": {},
   "outputs": [],
   "source": []
  },
  {
   "cell_type": "markdown",
   "id": "be00e466-c5db-4c14-b43f-7fdfc4e02490",
   "metadata": {},
   "source": [
    "#  Data Exploration "
   ]
  },
  {
   "cell_type": "code",
   "execution_count": 39,
   "id": "96925007-e15b-4cc8-8050-25f194d951cb",
   "metadata": {},
   "outputs": [
    {
     "data": {
      "image/png": "[encoded data removed]",
      "text/plain": [
       "<Figure size 1000x800 with 1 Axes>"
      ]
     },
     "metadata": {},
     "output_type": "display_data"
    }
   ],
   "source": [
    "# 4.1 Diagnosis Count Plot\n",
    "plt.figure(figsize=(10,8))\n",
    "sns.countplot(x='diagnosis', data=df)\n",
    "plt.title(\"Benign (0) vs Malignant (1) Cases\")\n",
    "plt.show()"
   ]
  },
  {
   "cell_type": "markdown",
   "id": "a6cb159b-e652-4549-ab23-ee63b9571cd1",
   "metadata": {},
   "source": [
    "### Correlation Matrix"
   ]
  },
  {
   "cell_type": "code",
   "execution_count": 42,
   "id": "65f35a1e-cb72-4b12-befc-3788da926b05",
   "metadata": {},
   "outputs": [
    {
     "data": {
      "image/png": "[encoded data removed]",
      "text/plain": [
       "<Figure size 1000x800 with 2 Axes>"
      ]
     },
     "metadata": {},
     "output_type": "display_data"
    }
   ],
   "source": [
    "\n",
    "plt.figure(figsize=(10,8))\n",
    "sns.heatmap(df.corr(), annot=False, cmap='coolwarm')\n",
    "plt.title(\"Features Correlation\")\n",
    "plt.show()\n"
   ]
  },
  {
   "cell_type": "markdown",
   "id": "c8903ac5-bea2-457e-b830-ba426d49dbba",
   "metadata": {},
   "source": [
    "# Define independent variables (X) and dependent variable (Y)"
   ]
  },
  {
   "cell_type": "code",
   "execution_count": 45,
   "id": "59a3e64f-7969-4e60-b689-de5d2ba6c3c0",
   "metadata": {},
   "outputs": [],
   "source": [
    "# Features (X) and Target (y) \n",
    "X = df.drop('diagnosis', axis=1)\n",
    "y = df['diagnosis']"
   ]
  },
  {
   "cell_type": "markdown",
   "id": "061f1cfa-2c49-49b3-abad-47ed335460e8",
   "metadata": {},
   "source": [
    "# Feature Scaling"
   ]
  },
  {
   "cell_type": "code",
   "execution_count": 48,
   "id": "20f088ae-abca-4dff-a4d8-835a8990ebee",
   "metadata": {},
   "outputs": [],
   "source": [
    "#  Feature Scaling\n",
    "scaler = StandardScaler()\n",
    "X_scaled = scaler.fit_transform(X)"
   ]
  },
  {
   "cell_type": "markdown",
   "id": "609ac26d-2fe9-4c87-b2f0-b3039703c2cc",
   "metadata": {},
   "source": [
    "\n",
    "# Split Data into Training & Testing Sets"
   ]
  },
  {
   "cell_type": "code",
   "execution_count": 51,
   "id": "1716e0ca-e226-4be4-80f6-453bb645a791",
   "metadata": {},
   "outputs": [],
   "source": [
    "#  Train-Test Split (80% Train, 20% Test)\n",
    "X_train, X_test, y_train, y_test = train_test_split(X_scaled, y, test_size=0.2, random_state=42)"
   ]
  },
  {
   "cell_type": "markdown",
   "id": "781b3f71-2ea8-43ed-b5f8-379734c425fd",
   "metadata": {},
   "source": [
    "# Defining & Training  All The Model For Choosing the Best Model"
   ]
  },
  {
   "cell_type": "code",
   "execution_count": 54,
   "id": "6b8a489e-5632-4810-9712-cfc82af2d995",
   "metadata": {},
   "outputs": [],
   "source": [
    "# Test Of Multiple Models \n",
    "models = {\n",
    "    \"Logistic Regression\": LogisticRegression(max_iter=1000),\n",
    "    \"Decision Tree\": DecisionTreeClassifier(),\n",
    "    \"Random Forest\": RandomForestClassifier(),\n",
    "    \"Support Vector Machine\": SVC(),\n",
    "    \"Naive Bayes\": GaussianNB(),\n",
    "\n",
    "}"
   ]
  },
  {
   "cell_type": "code",
   "execution_count": 56,
   "id": "a7bc6b37-4e21-4842-ba1b-e4c939eb6657",
   "metadata": {},
   "outputs": [
    {
     "name": "stdout",
     "output_type": "stream",
     "text": [
      "************************************************************\n",
      "\n",
      "Model: Logistic Regression \n",
      "\n",
      "Accuracy: 0.9737\n",
      "F1 Score: 0.9647\n",
      "************************************************************\n",
      "Classification Report:\n",
      "               precision    recall  f1-score   support\n",
      "\n",
      "           0       0.97      0.99      0.98        71\n",
      "           1       0.98      0.95      0.96        43\n",
      "\n",
      "    accuracy                           0.97       114\n",
      "   macro avg       0.97      0.97      0.97       114\n",
      "weighted avg       0.97      0.97      0.97       114\n",
      "\n",
      "************************************************************\n",
      "\n",
      "Model: Decision Tree \n",
      "\n",
      "Accuracy: 0.9386\n",
      "F1 Score: 0.9176\n",
      "************************************************************\n",
      "Classification Report:\n",
      "               precision    recall  f1-score   support\n",
      "\n",
      "           0       0.94      0.96      0.95        71\n",
      "           1       0.93      0.91      0.92        43\n",
      "\n",
      "    accuracy                           0.94       114\n",
      "   macro avg       0.94      0.93      0.93       114\n",
      "weighted avg       0.94      0.94      0.94       114\n",
      "\n",
      "************************************************************\n",
      "\n",
      "Model: Random Forest \n",
      "\n",
      "Accuracy: 0.9649\n",
      "F1 Score: 0.9524\n",
      "************************************************************\n",
      "Classification Report:\n",
      "               precision    recall  f1-score   support\n",
      "\n",
      "           0       0.96      0.99      0.97        71\n",
      "           1       0.98      0.93      0.95        43\n",
      "\n",
      "    accuracy                           0.96       114\n",
      "   macro avg       0.97      0.96      0.96       114\n",
      "weighted avg       0.97      0.96      0.96       114\n",
      "\n",
      "************************************************************\n",
      "\n",
      "Model: Support Vector Machine \n",
      "\n",
      "Accuracy: 0.9737\n",
      "F1 Score: 0.9647\n",
      "************************************************************\n",
      "Classification Report:\n",
      "               precision    recall  f1-score   support\n",
      "\n",
      "           0       0.97      0.99      0.98        71\n",
      "           1       0.98      0.95      0.96        43\n",
      "\n",
      "    accuracy                           0.97       114\n",
      "   macro avg       0.97      0.97      0.97       114\n",
      "weighted avg       0.97      0.97      0.97       114\n",
      "\n",
      "************************************************************\n",
      "\n",
      "Model: Naive Bayes \n",
      "\n",
      "Accuracy: 0.9649\n",
      "F1 Score: 0.9524\n",
      "************************************************************\n",
      "Classification Report:\n",
      "               precision    recall  f1-score   support\n",
      "\n",
      "           0       0.96      0.99      0.97        71\n",
      "           1       0.98      0.93      0.95        43\n",
      "\n",
      "    accuracy                           0.96       114\n",
      "   macro avg       0.97      0.96      0.96       114\n",
      "weighted avg       0.97      0.96      0.96       114\n",
      "\n"
     ]
    }
   ],
   "source": [
    "\n",
    "results = []\n",
    "for name, model in models.items():\n",
    "    # Model Training \n",
    "    model.fit(X_train, y_train)\n",
    "    \n",
    "    # For Predictions \n",
    "    y_pred = model.predict(X_test)\n",
    "    \n",
    "    # Check Performance \n",
    "    acc = accuracy_score(y_test, y_pred)\n",
    "    f1 = f1_score(y_test, y_pred)\n",
    "    print(\"*\"*60)\n",
    "    results.append([name, acc, f1])\n",
    "    \n",
    "    # Classification Report\n",
    "    print(f\"\\nModel: {name} \\n\")\n",
    "    print(\"Accuracy:\", round(acc, 4))\n",
    "    print(\"F1 Score:\", round(f1, 4))\n",
    "    print(\"*\"*60)\n",
    "    print(\"Classification Report:\\n\", classification_report(y_test, y_pred))\n"
   ]
  },
  {
   "cell_type": "code",
   "execution_count": null,
   "id": "a3589de9-a269-4877-8732-20bf44d21829",
   "metadata": {},
   "outputs": [],
   "source": []
  },
  {
   "cell_type": "markdown",
   "id": "e2d58cf1-c321-4ba3-b75d-9ffdde80f428",
   "metadata": {},
   "source": [
    "# Drop Highly Correlated Features"
   ]
  },
  {
   "cell_type": "markdown",
   "id": "64d0f426-5b13-4e8b-ba81-0b5748b15cfa",
   "metadata": {},
   "source": [
    "### Calculate correlation matrix"
   ]
  },
  {
   "cell_type": "code",
   "execution_count": 61,
   "id": "6f9413ec-405d-464d-95aa-412c4de69021",
   "metadata": {},
   "outputs": [],
   "source": [
    "# Calculate correlation matrix\n",
    "corr_matrix = X.corr().abs()"
   ]
  },
  {
   "cell_type": "markdown",
   "id": "e3d42394-344e-4b5f-b70c-62cea0239bda",
   "metadata": {},
   "source": [
    "### Select upper triangle of correlation matrix"
   ]
  },
  {
   "cell_type": "code",
   "execution_count": 64,
   "id": "3e8d0dab-3a12-4c1c-999d-9206703ed78e",
   "metadata": {},
   "outputs": [],
   "source": [
    "# Select upper triangle of correlation matrix\n",
    "upper = corr_matrix.where(np.triu(np.ones(corr_matrix.shape), k=1).astype(bool))"
   ]
  },
  {
   "cell_type": "markdown",
   "id": "5f92d406-76d5-4de9-95f4-b6fe9d57d3bd",
   "metadata": {},
   "source": [
    "### Find features with correlation > 0.95"
   ]
  },
  {
   "cell_type": "code",
   "execution_count": 67,
   "id": "8ed8475c-e716-4790-8890-d8e27f7adfc6",
   "metadata": {},
   "outputs": [
    {
     "name": "stdout",
     "output_type": "stream",
     "text": [
      "Highly correlated features: ['perimeter_mean', 'area_mean', 'perimeter_se', 'area_se', 'radius_worst', 'perimeter_worst', 'area_worst']\n"
     ]
    }
   ],
   "source": [
    "\n",
    "to_drop = [column for column in upper.columns if any(upper[column] > 0.95)]\n",
    "print(\"Highly correlated features:\", to_drop)\n"
   ]
  },
  {
   "cell_type": "markdown",
   "id": "e0fdd162-dd44-4544-9c1d-8c86a7026e43",
   "metadata": {},
   "source": [
    "###  Remove Multicollinearity "
   ]
  },
  {
   "cell_type": "code",
   "execution_count": 70,
   "id": "65e3c5f2-6273-411c-b7eb-243f86329a9e",
   "metadata": {},
   "outputs": [],
   "source": [
    "# Drop them\n",
    "X_reduced = X.drop(to_drop, axis=1)"
   ]
  },
  {
   "cell_type": "markdown",
   "id": "0aa7d03c-919c-46f7-a865-e8c490da2a07",
   "metadata": {},
   "source": [
    "# Display Summary Of Results"
   ]
  },
  {
   "cell_type": "code",
   "execution_count": 73,
   "id": "8861ed4b-b45e-446c-b3a9-94ff0ca64cbf",
   "metadata": {},
   "outputs": [
    {
     "name": "stdout",
     "output_type": "stream",
     "text": [
      "Optimization terminated successfully.\n",
      "         Current function value: 0.036903\n",
      "         Iterations 23\n",
      "                           Logit Regression Results                           \n",
      "==============================================================================\n",
      "Dep. Variable:              diagnosis   No. Observations:                  569\n",
      "Model:                          Logit   Df Residuals:                      545\n",
      "Method:                           MLE   Df Model:                           23\n",
      "Date:                Wed, 16 Apr 2025   Pseudo R-squ.:                  0.9441\n",
      "Time:                        11:49:56   Log-Likelihood:                -20.998\n",
      "converged:                       True   LL-Null:                       -375.72\n",
      "Covariance Type:            nonrobust   LLR p-value:                4.545e-135\n",
      "===========================================================================================\n",
      "                              coef    std err          z      P>|z|      [0.025      0.975]\n",
      "-------------------------------------------------------------------------------------------\n",
      "const                    -103.8447     36.003     -2.884      0.004    -174.409     -33.280\n",
      "radius_mean                 1.7697      0.791      2.238      0.025       0.220       3.320\n",
      "texture_mean               -0.2662      0.334     -0.797      0.425      -0.921       0.388\n",
      "smoothness_mean           182.4330    118.254      1.543      0.123     -49.341     414.207\n",
      "compactness_mean         -138.6832     93.874     -1.477      0.140    -322.673      45.306\n",
      "concavity_mean            107.8974     68.669      1.571      0.116     -26.692     242.487\n",
      "concave_points_mean         3.5654    108.139      0.033      0.974    -208.384     215.514\n",
      "symmetry_mean             -55.3856     42.870     -1.292      0.196    -139.409      28.638\n",
      "fractal_dimension_mean    124.2543    315.092      0.394      0.693    -493.315     741.824\n",
      "radius_se                  38.8085     13.128      2.956      0.003      13.077      64.540\n",
      "texture_se                 -5.5030      2.349     -2.342      0.019     -10.108      -0.898\n",
      "smoothness_se             605.4090    350.276      1.728      0.084     -81.120    1291.938\n",
      "compactness_se            333.3153    177.619      1.877      0.061     -14.812     681.443\n",
      "concavity_se             -202.0945     93.101     -2.171      0.030    -384.568     -19.621\n",
      "concave points_se         676.0393    420.760      1.607      0.108    -148.636    1500.714\n",
      "symmetry_se              -264.4777    187.604     -1.410      0.159    -632.174     103.218\n",
      "fractal_dimension_se    -4185.1475   1601.426     -2.613      0.009   -7323.884   -1046.411\n",
      "texture_worst               0.9795      0.352      2.782      0.005       0.289       1.669\n",
      "smoothness_worst          -53.4620     63.474     -0.842      0.400    -177.868      70.944\n",
      "compactness_worst         -43.6258     31.653     -1.378      0.168    -105.665      18.414\n",
      "concavity_worst            22.3973     18.855      1.188      0.235     -14.559      59.353\n",
      "concave_points_worst       33.7196     60.301      0.559      0.576     -84.468     151.907\n",
      "symmetry_worst             53.8119     27.327      1.969      0.049       0.252     107.372\n",
      "fractal_dimension_worst   461.8041    206.469      2.237      0.025      57.132     866.477\n",
      "===========================================================================================\n",
      "\n",
      "Possibly complete quasi-separation: A fraction 0.77 of observations can be\n",
      "perfectly predicted. This might indicate that there is complete\n",
      "quasi-separation. In this case some parameters will not be identified.\n"
     ]
    }
   ],
   "source": [
    "import statsmodels.api as sm\n",
    "\n",
    "X_with_const = sm.add_constant(X_reduced)\n",
    "logit_model = sm.Logit(y, X_with_const).fit()\n",
    "print(logit_model.summary())\n"
   ]
  },
  {
   "cell_type": "markdown",
   "id": "7f9aafdb-7204-4129-9750-918908b0d117",
   "metadata": {},
   "source": [
    " "
   ]
  },
  {
   "cell_type": "markdown",
   "id": "58dbd1a3-5e08-4c5c-bdd9-abf00805e739",
   "metadata": {},
   "source": [
    "*  **The model is indeed showing good accuracy; however, analysis revealed that out of the 31 features, only 8 to 10 are truly significant. This indicates that the model is also utilizing some irrelevant or noisy features, which could lead to overfitting. In the next phase, I plan to apply feature selection techniques to optimize the model and improve its interpretability.**"
   ]
  },
  {
   "cell_type": "markdown",
   "id": "ad5c259a-eb3c-4b20-bc72-1043ee4d5a7d",
   "metadata": {},
   "source": [
    " "
   ]
  },
  {
   "cell_type": "markdown",
   "id": "2ee56f30-16ea-4e79-a359-733c45549985",
   "metadata": {},
   "source": [
    " "
   ]
  },
  {
   "cell_type": "markdown",
   "id": "9a23a7a8-175e-48ca-9571-e908428eb9ea",
   "metadata": {},
   "source": [
    " "
   ]
  },
  {
   "cell_type": "markdown",
   "id": "9c22fe34-d335-40b4-b0df-c1d3b3b1a14b",
   "metadata": {},
   "source": [
    " "
   ]
  },
  {
   "cell_type": "markdown",
   "id": "30d7d55d-7ead-4cde-8cfb-15b0c3b2c7a2",
   "metadata": {},
   "source": [
    " ### **Feature Selection:** Using Only Significant Features for Overfitting-Free Model"
   ]
  },
  {
   "cell_type": "code",
   "execution_count": 86,
   "id": "54dc70bc-cc3e-46ee-9aa6-f26d7d7eb3a0",
   "metadata": {},
   "outputs": [],
   "source": [
    "# Features (X) and Target (y) \n",
    "X = df[[\n",
    "'radius_mean',\n",
    "'radius_se',\n",
    "'texture_se',\n",
    "'concavity_se',\n",
    "'fractal_dimension_se',\n",
    "'texture_worst',\n",
    "'symmetry_worst',\n",
    "'fractal_dimension_worst']]\n",
    "\n",
    "y = df['diagnosis']\n",
    "\n",
    "#  Feature Scaling\n",
    "scaler = StandardScaler()\n",
    "X_scaled = scaler.fit_transform(X)\n",
    "\n",
    "#  Train-Test Split (80% Train, 20% Test)\n",
    "X_train, X_test, y_train, y_test = train_test_split(X_scaled, y, test_size=0.2, random_state=42)"
   ]
  },
  {
   "cell_type": "markdown",
   "id": "234a0697-40f4-43f6-b4d1-c84c4c34faf0",
   "metadata": {},
   "source": [
    " "
   ]
  },
  {
   "cell_type": "markdown",
   "id": "b96643ac-3aba-4ca3-9c84-150dd37574f6",
   "metadata": {},
   "source": [
    "# Again Check And Drop Highly Correlated Features"
   ]
  },
  {
   "cell_type": "code",
   "execution_count": 90,
   "id": "5056e019-3f8c-45be-aa48-046be377da5a",
   "metadata": {},
   "outputs": [
    {
     "name": "stdout",
     "output_type": "stream",
     "text": [
      "Highly correlated features: []\n"
     ]
    }
   ],
   "source": [
    "\n",
    "# Calculate correlation matrix\n",
    "corr_matrix = X.corr().abs()\n",
    "\n",
    "# Select upper triangle of correlation matrix\n",
    "upper = corr_matrix.where(np.triu(np.ones(corr_matrix.shape), k=1).astype(bool))\n",
    "\n",
    "# Find features with correlation > 0.95\n",
    "to_drop = [column for column in upper.columns if any(upper[column] > 0.95)]\n",
    "\n",
    "print(\"Highly correlated features:\", to_drop)\n",
    "\n",
    "# Drop them\n",
    "X_reduced = X.drop(to_drop, axis=1)\n"
   ]
  },
  {
   "cell_type": "markdown",
   "id": "80979924-6d1e-4337-9985-1c7fd9401099",
   "metadata": {},
   "source": [
    "# Again Check And Display Summary Of Results"
   ]
  },
  {
   "cell_type": "code",
   "execution_count": 93,
   "id": "6b875604-80fe-4b6a-893b-8261a78f7c41",
   "metadata": {},
   "outputs": [
    {
     "name": "stdout",
     "output_type": "stream",
     "text": [
      "Optimization terminated successfully.\n",
      "         Current function value: 0.083104\n",
      "         Iterations 12\n",
      "                           Logit Regression Results                           \n",
      "==============================================================================\n",
      "Dep. Variable:              diagnosis   No. Observations:                  569\n",
      "Model:                          Logit   Df Residuals:                      560\n",
      "Method:                           MLE   Df Model:                            8\n",
      "Date:                Wed, 16 Apr 2025   Pseudo R-squ.:                  0.8741\n",
      "Time:                        11:50:29   Log-Likelihood:                -47.286\n",
      "converged:                       True   LL-Null:                       -375.72\n",
      "Covariance Type:            nonrobust   LLR p-value:                1.375e-136\n",
      "===========================================================================================\n",
      "                              coef    std err          z      P>|z|      [0.025      0.975]\n",
      "-------------------------------------------------------------------------------------------\n",
      "const                     -47.7101      6.429     -7.421      0.000     -60.311     -35.109\n",
      "radius_mean                 1.3359      0.224      5.971      0.000       0.897       1.774\n",
      "radius_se                  18.1385      4.142      4.379      0.000      10.020      26.257\n",
      "texture_se                 -1.9022      1.005     -1.892      0.058      -3.872       0.068\n",
      "concavity_se               32.0266     10.360      3.092      0.002      11.722      52.331\n",
      "fractal_dimension_se     -889.7916    280.682     -3.170      0.002   -1439.917    -339.666\n",
      "texture_worst               0.4185      0.088      4.778      0.000       0.247       0.590\n",
      "symmetry_worst             12.9287      5.841      2.214      0.027       1.481      24.376\n",
      "fractal_dimension_worst   134.2854     31.808      4.222      0.000      71.944     196.627\n",
      "===========================================================================================\n",
      "\n",
      "Possibly complete quasi-separation: A fraction 0.36 of observations can be\n",
      "perfectly predicted. This might indicate that there is complete\n",
      "quasi-separation. In this case some parameters will not be identified.\n"
     ]
    }
   ],
   "source": [
    "import statsmodels.api as sm\n",
    "\n",
    "X_with_const = sm.add_constant(X_reduced)\n",
    "logit_model = sm.Logit(y, X_with_const).fit()\n",
    "print(logit_model.summary())\n"
   ]
  },
  {
   "cell_type": "code",
   "execution_count": null,
   "id": "3c7067ad-87c1-4fef-b803-d212ea58fa62",
   "metadata": {},
   "outputs": [],
   "source": []
  },
  {
   "cell_type": "markdown",
   "id": "80784e68-ec4b-4eae-8f7f-37cd17ac4edc",
   "metadata": {},
   "source": [
    "# Results Comparison"
   ]
  },
  {
   "cell_type": "code",
   "execution_count": 96,
   "id": "ad069945-8a3c-432b-adc9-0b958122abe0",
   "metadata": {},
   "outputs": [
    {
     "name": "stdout",
     "output_type": "stream",
     "text": [
      "\n",
      "Models Comparison:\n"
     ]
    },
    {
     "data": {
      "text/html": [
       "<div>\n",
       "<style scoped>\n",
       "    .dataframe tbody tr th:only-of-type {\n",
       "        vertical-align: middle;\n",
       "    }\n",
       "\n",
       "    .dataframe tbody tr th {\n",
       "        vertical-align: top;\n",
       "    }\n",
       "\n",
       "    .dataframe thead th {\n",
       "        text-align: right;\n",
       "    }\n",
       "</style>\n",
       "<table border=\"1\" class=\"dataframe\">\n",
       "  <thead>\n",
       "    <tr style=\"text-align: right;\">\n",
       "      <th></th>\n",
       "      <th>Model</th>\n",
       "      <th>Accuracy</th>\n",
       "      <th>F1 Score</th>\n",
       "    </tr>\n",
       "  </thead>\n",
       "  <tbody>\n",
       "    <tr>\n",
       "      <th>0</th>\n",
       "      <td>Logistic Regression</td>\n",
       "      <td>0.973684</td>\n",
       "      <td>0.964706</td>\n",
       "    </tr>\n",
       "    <tr>\n",
       "      <th>3</th>\n",
       "      <td>Support Vector Machine</td>\n",
       "      <td>0.973684</td>\n",
       "      <td>0.964706</td>\n",
       "    </tr>\n",
       "    <tr>\n",
       "      <th>2</th>\n",
       "      <td>Random Forest</td>\n",
       "      <td>0.964912</td>\n",
       "      <td>0.952381</td>\n",
       "    </tr>\n",
       "    <tr>\n",
       "      <th>4</th>\n",
       "      <td>Naive Bayes</td>\n",
       "      <td>0.964912</td>\n",
       "      <td>0.952381</td>\n",
       "    </tr>\n",
       "    <tr>\n",
       "      <th>1</th>\n",
       "      <td>Decision Tree</td>\n",
       "      <td>0.938596</td>\n",
       "      <td>0.917647</td>\n",
       "    </tr>\n",
       "  </tbody>\n",
       "</table>\n",
       "</div>"
      ],
      "text/plain": [
       "                    Model  Accuracy  F1 Score\n",
       "0     Logistic Regression  0.973684  0.964706\n",
       "3  Support Vector Machine  0.973684  0.964706\n",
       "2           Random Forest  0.964912  0.952381\n",
       "4             Naive Bayes  0.964912  0.952381\n",
       "1           Decision Tree  0.938596  0.917647"
      ]
     },
     "execution_count": 96,
     "metadata": {},
     "output_type": "execute_result"
    }
   ],
   "source": [
    "# Summary table\n",
    "# Results Comparison \n",
    "results_df = pd.DataFrame(results, columns=['Model', 'Accuracy', 'F1 Score'])\n",
    "print(\"\\nModels Comparison:\")\n",
    "results_df.sort_values('F1 Score', ascending=False)"
   ]
  },
  {
   "cell_type": "markdown",
   "id": "46e27604-f26b-4bf9-8575-4c3e7b8cc0b6",
   "metadata": {},
   "source": [
    "# Model Performance"
   ]
  },
  {
   "cell_type": "code",
   "execution_count": 99,
   "id": "c36b8b0d-fef5-4b60-8b0d-c15cee570057",
   "metadata": {},
   "outputs": [
    {
     "data": {
      "image/png": "[encoded data removed]",
      "text/plain": [
       "<Figure size 1000x500 with 1 Axes>"
      ]
     },
     "metadata": {},
     "output_type": "display_data"
    }
   ],
   "source": [
    "import seaborn as sns\n",
    "# Plot Model Performance\n",
    "plt.figure(figsize=(10, 5))\n",
    "ax = sns.barplot(x=\"F1 Score\", y=\"Model\", data=results_df, palette=\"Blues\")\n",
    "\n",
    "# Add annotations (F1 Score on bars)\n",
    "for container in ax.containers:\n",
    "    ax.bar_label(container, fmt=\"%.3f\", fontsize=10, color=\"black\", padding=1)\n",
    "\n",
    "# Set title and limits\n",
    "plt.title(\"Model Performance Comparison\", fontsize=14, fontweight=\"bold\")\n",
    "plt.xlim(0, 1)  #F1 Score range\n",
    "\n",
    "# Show plot\n",
    "plt.show()"
   ]
  },
  {
   "cell_type": "code",
   "execution_count": null,
   "id": "4ef96888-2795-4f15-831a-d1a612e4ead8",
   "metadata": {},
   "outputs": [],
   "source": []
  },
  {
   "cell_type": "markdown",
   "id": "0fd8d748-578c-4a9f-add7-64ee54f1ddce",
   "metadata": {},
   "source": [
    "#  Best Model Of Confusion Matrix "
   ]
  },
  {
   "cell_type": "code",
   "execution_count": 102,
   "id": "ed85b14b-1839-48ed-9bee-e76cdc23c780",
   "metadata": {},
   "outputs": [
    {
     "data": {
      "image/png": "[encoded data removed]",
      "text/plain": [
       "<Figure size 1200x800 with 2 Axes>"
      ]
     },
     "metadata": {},
     "output_type": "display_data"
    }
   ],
   "source": [
    "#  Best Model Of Confusion Matrix \n",
    "plt.figure(figsize=(12, 8))\n",
    "best_model = LogisticRegression(max_iter=1000)\n",
    "best_model.fit(X_train, y_train)\n",
    "y_pred = best_model.predict(X_test)\n",
    "\n",
    "\n",
    "cm = confusion_matrix(y_test, y_pred)\n",
    "sns.heatmap(cm, annot=True, fmt='d', cmap='Blues')\n",
    "plt.xlabel(\"Predicted\")\n",
    "plt.ylabel(\"Actual\")\n",
    "plt.title(\"Confusion Matrix - Logistic Regression\")\n",
    "plt.show()"
   ]
  },
  {
   "cell_type": "markdown",
   "id": "3ab313a5-4434-439d-9b34-c9a26ba93870",
   "metadata": {},
   "source": [
    "# Choose The Best Model\n",
    "* Support Vector Machine And Logistic Regression Model is the best model for batter prediction"
   ]
  },
  {
   "cell_type": "code",
   "execution_count": null,
   "id": "a0af62c7-c6f9-45e5-afa5-b4fc317afb8f",
   "metadata": {},
   "outputs": [],
   "source": []
  },
  {
   "cell_type": "markdown",
   "id": "d394c731-8adc-436c-b604-e9506ad9837e",
   "metadata": {},
   "source": [
    "# Prediction"
   ]
  },
  {
   "cell_type": "markdown",
   "id": "3e534cd8-8ca6-400d-86fc-84847a1bf68c",
   "metadata": {},
   "source": [
    "### Actual Data"
   ]
  },
  {
   "cell_type": "code",
   "execution_count": 105,
   "id": "a76e022d-87ce-4ae8-8919-7e7af7bac675",
   "metadata": {},
   "outputs": [
    {
     "data": {
      "text/html": [
       "<div>\n",
       "<style scoped>\n",
       "    .dataframe tbody tr th:only-of-type {\n",
       "        vertical-align: middle;\n",
       "    }\n",
       "\n",
       "    .dataframe tbody tr th {\n",
       "        vertical-align: top;\n",
       "    }\n",
       "\n",
       "    .dataframe thead th {\n",
       "        text-align: right;\n",
       "    }\n",
       "</style>\n",
       "<table border=\"1\" class=\"dataframe\">\n",
       "  <thead>\n",
       "    <tr style=\"text-align: right;\">\n",
       "      <th></th>\n",
       "      <th>radius_mean</th>\n",
       "      <th>radius_se</th>\n",
       "      <th>texture_se</th>\n",
       "      <th>concavity_se</th>\n",
       "      <th>fractal_dimension_se</th>\n",
       "      <th>texture_worst</th>\n",
       "      <th>symmetry_worst</th>\n",
       "      <th>fractal_dimension_worst</th>\n",
       "      <th>diagnosis</th>\n",
       "    </tr>\n",
       "  </thead>\n",
       "  <tbody>\n",
       "    <tr>\n",
       "      <th>567</th>\n",
       "      <td>20.60</td>\n",
       "      <td>0.7260</td>\n",
       "      <td>1.595</td>\n",
       "      <td>0.07117</td>\n",
       "      <td>0.006185</td>\n",
       "      <td>39.42</td>\n",
       "      <td>0.4087</td>\n",
       "      <td>0.12400</td>\n",
       "      <td>1</td>\n",
       "    </tr>\n",
       "    <tr>\n",
       "      <th>568</th>\n",
       "      <td>7.76</td>\n",
       "      <td>0.3857</td>\n",
       "      <td>1.428</td>\n",
       "      <td>0.00000</td>\n",
       "      <td>0.002783</td>\n",
       "      <td>30.37</td>\n",
       "      <td>0.2871</td>\n",
       "      <td>0.07039</td>\n",
       "      <td>0</td>\n",
       "    </tr>\n",
       "  </tbody>\n",
       "</table>\n",
       "</div>"
      ],
      "text/plain": [
       "     radius_mean  radius_se  texture_se  concavity_se  fractal_dimension_se  \\\n",
       "567        20.60     0.7260       1.595       0.07117              0.006185   \n",
       "568         7.76     0.3857       1.428       0.00000              0.002783   \n",
       "\n",
       "     texture_worst  symmetry_worst  fractal_dimension_worst  diagnosis  \n",
       "567          39.42          0.4087                  0.12400          1  \n",
       "568          30.37          0.2871                  0.07039          0  "
      ]
     },
     "execution_count": 105,
     "metadata": {},
     "output_type": "execute_result"
    }
   ],
   "source": [
    "df[[\n",
    "'radius_mean',\n",
    "'radius_se',\n",
    "'texture_se',\n",
    "'concavity_se',\n",
    "'fractal_dimension_se',\n",
    "'texture_worst',\n",
    "'symmetry_worst',\n",
    "'fractal_dimension_worst',\n",
    "'diagnosis']].tail(2)"
   ]
  },
  {
   "cell_type": "code",
   "execution_count": null,
   "id": "05c15c70-0a34-4b36-babd-0927b7bd64c2",
   "metadata": {},
   "outputs": [],
   "source": []
  },
  {
   "cell_type": "markdown",
   "id": "93a5de74-b792-4d42-832e-aaad50d42c9b",
   "metadata": {},
   "source": [
    "#### No Cancer data \n"
   ]
  },
  {
   "cell_type": "code",
   "execution_count": 107,
   "id": "d963dc85-a051-431b-b83a-7fa405c7687a",
   "metadata": {},
   "outputs": [],
   "source": [
    "    new_patient_no_cancer= pd.DataFrame ([{'radius_mean': 7.76,\n",
    "                                 'radius_se': 0.3857,\n",
    "                                 'texture_se': 1.4280, \n",
    "                                 'concavity_se': 0.00000,\n",
    "                                 'fractal_dimension_se': 0.002783,\n",
    "                                 'texture_worst': 30.37,\n",
    "                                 'symmetry_worst': 0.2871,\n",
    "                                 'fractal_dimension_worst':\t0.07039\n",
    "                                 }])"
   ]
  },
  {
   "cell_type": "code",
   "execution_count": 109,
   "id": "80f53d58-e101-4fc5-b602-e40151b7dfa8",
   "metadata": {},
   "outputs": [
    {
     "data": {
      "text/html": [
       "<div>\n",
       "<style scoped>\n",
       "    .dataframe tbody tr th:only-of-type {\n",
       "        vertical-align: middle;\n",
       "    }\n",
       "\n",
       "    .dataframe tbody tr th {\n",
       "        vertical-align: top;\n",
       "    }\n",
       "\n",
       "    .dataframe thead th {\n",
       "        text-align: right;\n",
       "    }\n",
       "</style>\n",
       "<table border=\"1\" class=\"dataframe\">\n",
       "  <thead>\n",
       "    <tr style=\"text-align: right;\">\n",
       "      <th></th>\n",
       "      <th>radius_mean</th>\n",
       "      <th>radius_se</th>\n",
       "      <th>texture_se</th>\n",
       "      <th>concavity_se</th>\n",
       "      <th>fractal_dimension_se</th>\n",
       "      <th>texture_worst</th>\n",
       "      <th>symmetry_worst</th>\n",
       "      <th>fractal_dimension_worst</th>\n",
       "    </tr>\n",
       "  </thead>\n",
       "  <tbody>\n",
       "    <tr>\n",
       "      <th>0</th>\n",
       "      <td>7.76</td>\n",
       "      <td>0.3857</td>\n",
       "      <td>1.428</td>\n",
       "      <td>0.0</td>\n",
       "      <td>0.002783</td>\n",
       "      <td>30.37</td>\n",
       "      <td>0.2871</td>\n",
       "      <td>0.07039</td>\n",
       "    </tr>\n",
       "  </tbody>\n",
       "</table>\n",
       "</div>"
      ],
      "text/plain": [
       "   radius_mean  radius_se  texture_se  concavity_se  fractal_dimension_se  \\\n",
       "0         7.76     0.3857       1.428           0.0              0.002783   \n",
       "\n",
       "   texture_worst  symmetry_worst  fractal_dimension_worst  \n",
       "0          30.37          0.2871                  0.07039  "
      ]
     },
     "execution_count": 109,
     "metadata": {},
     "output_type": "execute_result"
    }
   ],
   "source": [
    "new_patient_no_cancer"
   ]
  },
  {
   "cell_type": "code",
   "execution_count": 111,
   "id": "eb522eb3-c1ba-4e9a-9d11-0396cc62ffb0",
   "metadata": {},
   "outputs": [
    {
     "name": "stdout",
     "output_type": "stream",
     "text": [
      "\n",
      "New Patient Prediction:\n",
      "Predicted Class: Benign (No Cancer)\n",
      "Probability [Benign, Malignant]: [0.99838012 0.00161988]\n"
     ]
    }
   ],
   "source": [
    "\n",
    "\n",
    "#  Feature Scaling for New Data\n",
    "new_patient_scaled = scaler.transform(new_patient_no_cancer)\n",
    "\n",
    "# Prediction\n",
    "prediction = best_model.predict(new_patient_scaled)\n",
    "prediction_proba = best_model.predict_proba(new_patient_scaled)\n",
    "\n",
    "#  Result Display\n",
    "print(\"\\nNew Patient Prediction:\")\n",
    "print(\"Predicted Class:\", \"Malignant (Cancer)\" if prediction[0] == 1 else \"Benign (No Cancer)\")\n",
    "print(\"Probability [Benign, Malignant]:\", prediction_proba[0])\n"
   ]
  },
  {
   "cell_type": "code",
   "execution_count": null,
   "id": "cbf9e180-0ef0-4c42-84ac-61d345e26d44",
   "metadata": {},
   "outputs": [],
   "source": []
  },
  {
   "cell_type": "code",
   "execution_count": null,
   "id": "32b2ce55-0a80-4ff2-9ef6-865ba103b9c9",
   "metadata": {},
   "outputs": [],
   "source": []
  },
  {
   "cell_type": "markdown",
   "id": "07d55496-c7c3-4a16-8192-0f330980f9f5",
   "metadata": {},
   "source": [
    "#### Cancer data\n"
   ]
  },
  {
   "cell_type": "code",
   "execution_count": 114,
   "id": "bae6853a-b5ed-4106-a93c-bcf6d502a4b8",
   "metadata": {},
   "outputs": [],
   "source": [
    "  new_patient= pd.DataFrame ([{  'radius_mean': 20.60,\n",
    "                                 'radius_se': 0.7260,\n",
    "                                 'texture_se': 1.5950,\n",
    "                                 'concavity_se': 0.07117,\n",
    "                                 'fractal_dimension_se': 0.006185,\n",
    "                                 'texture_worst': 39.42,\n",
    "                                 'symmetry_worst': 0.4087,\n",
    "                                 'fractal_dimension_worst':\t0.12400\n",
    "                                 }])"
   ]
  },
  {
   "cell_type": "code",
   "execution_count": 116,
   "id": "716eb96b-5dea-4016-ac1a-0d96047aac91",
   "metadata": {},
   "outputs": [
    {
     "data": {
      "text/html": [
       "<div>\n",
       "<style scoped>\n",
       "    .dataframe tbody tr th:only-of-type {\n",
       "        vertical-align: middle;\n",
       "    }\n",
       "\n",
       "    .dataframe tbody tr th {\n",
       "        vertical-align: top;\n",
       "    }\n",
       "\n",
       "    .dataframe thead th {\n",
       "        text-align: right;\n",
       "    }\n",
       "</style>\n",
       "<table border=\"1\" class=\"dataframe\">\n",
       "  <thead>\n",
       "    <tr style=\"text-align: right;\">\n",
       "      <th></th>\n",
       "      <th>radius_mean</th>\n",
       "      <th>radius_se</th>\n",
       "      <th>texture_se</th>\n",
       "      <th>concavity_se</th>\n",
       "      <th>fractal_dimension_se</th>\n",
       "      <th>texture_worst</th>\n",
       "      <th>symmetry_worst</th>\n",
       "      <th>fractal_dimension_worst</th>\n",
       "    </tr>\n",
       "  </thead>\n",
       "  <tbody>\n",
       "    <tr>\n",
       "      <th>0</th>\n",
       "      <td>20.6</td>\n",
       "      <td>0.726</td>\n",
       "      <td>1.595</td>\n",
       "      <td>0.07117</td>\n",
       "      <td>0.006185</td>\n",
       "      <td>39.42</td>\n",
       "      <td>0.4087</td>\n",
       "      <td>0.124</td>\n",
       "    </tr>\n",
       "  </tbody>\n",
       "</table>\n",
       "</div>"
      ],
      "text/plain": [
       "   radius_mean  radius_se  texture_se  concavity_se  fractal_dimension_se  \\\n",
       "0         20.6      0.726       1.595       0.07117              0.006185   \n",
       "\n",
       "   texture_worst  symmetry_worst  fractal_dimension_worst  \n",
       "0          39.42          0.4087                    0.124  "
      ]
     },
     "execution_count": 116,
     "metadata": {},
     "output_type": "execute_result"
    }
   ],
   "source": [
    "new_patient"
   ]
  },
  {
   "cell_type": "code",
   "execution_count": 118,
   "id": "ac016881-4021-403e-9ec7-1ff7c2ac8a67",
   "metadata": {},
   "outputs": [
    {
     "name": "stdout",
     "output_type": "stream",
     "text": [
      "\n",
      "New Patient Prediction:\n",
      "Predicted Class: Malignant (Cancer)\n",
      "Probability [Benign, Malignant]: [1.93916098e-07 9.99999806e-01]\n"
     ]
    }
   ],
   "source": [
    "\n",
    "\n",
    "#  Feature Scaling for New Data\n",
    "new_patient_scaled = scaler.transform(new_patient)\n",
    "\n",
    "# Prediction\n",
    "prediction = best_model.predict(new_patient_scaled)\n",
    "prediction_proba = best_model.predict_proba(new_patient_scaled)\n",
    "\n",
    "#  Result Display\n",
    "print(\"\\nNew Patient Prediction:\")\n",
    "print(\"Predicted Class:\", \"Malignant (Cancer)\" if prediction[0] == 1 else \"Benign (No Cancer)\")\n",
    "print(\"Probability [Benign, Malignant]:\", prediction_proba[0])\n"
   ]
  },
  {
   "cell_type": "code",
   "execution_count": null,
   "id": "0bf7c320-23d1-4c00-95d5-016a051ee87c",
   "metadata": {},
   "outputs": [],
   "source": []
  },
  {
   "cell_type": "code",
   "execution_count": null,
   "id": "3c14afab-dff9-4df3-9a47-21b28f914d39",
   "metadata": {},
   "outputs": [],
   "source": []
  },
  {
   "cell_type": "markdown",
   "id": "29c6fedb-1d57-4381-98af-347a41f0331f",
   "metadata": {},
   "source": [
    "# Run The Model in Streamlit Web App"
   ]
  },
  {
   "cell_type": "code",
   "execution_count": null,
   "id": "75d664f6-0483-4b58-bfe9-49fb367a654e",
   "metadata": {},
   "outputs": [],
   "source": []
  },
  {
   "cell_type": "code",
   "execution_count": 122,
   "id": "c3539e95-71a4-46f6-9627-09dfd0e9683e",
   "metadata": {},
   "outputs": [
    {
     "name": "stdout",
     "output_type": "stream",
     "text": [
      "Model and scaler saved!\n"
     ]
    }
   ],
   "source": [
    "import pandas as pd\n",
    "import numpy as np\n",
    "from sklearn.preprocessing import StandardScaler\n",
    "from sklearn.linear_model import LogisticRegression\n",
    "import pickle\n",
    "\n",
    "# Select the 8 features used for prediction\n",
    "X = df[['radius_mean', 'radius_se', 'texture_se', 'concavity_se', 'fractal_dimension_se',\n",
    "          'texture_worst', 'symmetry_worst', 'fractal_dimension_worst']]\n",
    "y = df['diagnosis']  # Assuming 'diagnosis' is the target column\n",
    "\n",
    "# Scale the features\n",
    "scaler = StandardScaler()\n",
    "X_scaled = scaler.fit_transform(X)\n",
    "\n",
    "# Train the model (Logistic Regression as an example)\n",
    "model = LogisticRegression()\n",
    "model.fit(X_scaled, y)\n",
    "\n",
    "# Save the trained model and scaler\n",
    "with open('cancer_model.pkl', 'wb') as model_file:\n",
    "    pickle.dump(model, model_file)\n",
    "\n",
    "with open('scaler.pkl', 'wb') as scaler_file:\n",
    "    pickle.dump(scaler, scaler_file)\n",
    "\n",
    "print(\"Model and scaler saved!\")\n"
   ]
  },
  {
   "cell_type": "code",
   "execution_count": null,
   "id": "797dc6a1-cc3e-4bd1-bdd2-e3bcb6b788a9",
   "metadata": {},
   "outputs": [],
   "source": []
  },
  {
   "cell_type": "code",
   "execution_count": 125,
   "id": "25db1ca4-7563-454d-8544-72074b492f8e",
   "metadata": {},
   "outputs": [
    {
     "name": "stdout",
     "output_type": "stream",
     "text": [
      "Overwriting app.py\n"
     ]
    }
   ],
   "source": [
    "%%writefile app.py\n",
    "import streamlit as st\n",
    "import pandas as pd\n",
    "import numpy as np\n",
    "from sklearn.preprocessing import StandardScaler\n",
    "from sklearn.linear_model import LogisticRegression\n",
    "import pickle\n",
    "\n",
    "# Load saved model and scaler\n",
    "with open('cancer_model.pkl', 'rb') as model_file:\n",
    "    model = pickle.load(model_file)\n",
    "with open('scaler.pkl', 'rb') as scaler_file:\n",
    "    scaler = pickle.load(scaler_file)\n",
    "\n",
    "# App title and description\n",
    "st.title(\"🔬 Breast Cancer Prediction App\")\n",
    "st.write(\"\"\"\n",
    "This app predicts whether a breast tumor is **Malignant (Cancerous)** or **Benign (Non-Cancerous)** \n",
    "using machine learning. Enter the patient's details below:\n",
    "\"\"\")\n",
    "\n",
    "# Input form\n",
    "st.header(\"Patient Details\")\n",
    "with st.form(\"prediction_form\"):\n",
    "    # Create input fields for the 8 features\n",
    "    col1, col2 = st.columns(2)\n",
    "    \n",
    "    with col1:\n",
    "        radius_mean = st.number_input(\"Radius Mean\", min_value=0.0, value=7.76)\n",
    "        radius_se = st.number_input(\"Radius SE\", min_value=0.0, value=0.3857)\n",
    "        texture_se = st.number_input(\"Texture SE\", min_value=0.0, value=1.4280)\n",
    "        concavity_se = st.number_input(\"Concavity SE\", min_value=0.0, value=0.00000)\n",
    "        \n",
    "        \n",
    "    with col2:\n",
    "        texture_worst = st.number_input(\"Texture Worst\", min_value=0.0, value=30.37)\n",
    "        symmetry_worst = st.number_input(\"Symmetry Worst\", min_value=0.0, value=0.2871)\n",
    "        fractal_dimension_worst = st.number_input(\"Fractal Dimension Worst\", min_value=0.0, value=0.07039)\n",
    "        fractal_dimension_se = st.number_input(\"Fractal Dimension SE\", min_value=0.0, value=0.002783)\n",
    "    \n",
    "    submit_button = st.form_submit_button(\"Predict Diagnosis\")\n",
    "\n",
    "# Prediction logic\n",
    "if submit_button:\n",
    "    # Create feature array with only the 8 selected features\n",
    "    features = np.array([[\n",
    "        radius_mean, radius_se, texture_se, concavity_se, fractal_dimension_se,\n",
    "        texture_worst, symmetry_worst, fractal_dimension_worst\n",
    "    ]])\n",
    "    \n",
    "    # Scale features\n",
    "    features_scaled = scaler.transform(features)\n",
    "    \n",
    "    # Make prediction\n",
    "    prediction = model.predict(features_scaled)\n",
    "    probability = model.predict_proba(features_scaled)\n",
    "    \n",
    "    # Display results\n",
    "    st.header(\"Prediction Results\")\n",
    "    if prediction[0] == 1:\n",
    "        st.error(f\"🚨 **Prediction:** Malignant (Cancerous) - {probability[0][1]*100:.2f}% probability\")\n",
    "    else:\n",
    "        st.success(f\"✅ **Prediction:** Benign (Non-Cancerous) - {probability[0][0]*100:.2f}% probability\")\n",
    "    \n",
    "    # Show probability breakdown\n",
    "    st.write(f\"**Probability Breakdown:**\")\n",
    "    st.write(f\"- Benign: {probability[0][0]*100:.2f}%\")\n",
    "    st.write(f\"- Malignant: {probability[0][1]*100:.2f}%\")\n",
    "\n",
    "# Run instructions\n",
    "st.sidebar.header(\"How to Use\")\n",
    "st.sidebar.write(\"\"\"\n",
    "1. Enter patient's tumor characteristics\n",
    "2. Click 'Predict Diagnosis'\n",
    "3. View results\n",
    "\"\"\")\n",
    "\n"
   ]
  },
  {
   "cell_type": "code",
   "execution_count": 127,
   "id": "4c6b5cbe-a635-4149-a80e-c8b191bd9046",
   "metadata": {},
   "outputs": [
    {
     "data": {
      "text/plain": [
       "<Popen: returncode: None args: ['C:\\\\ProgramData\\\\anaconda3\\\\python.exe', '-...>"
      ]
     },
     "execution_count": 127,
     "metadata": {},
     "output_type": "execute_result"
    }
   ],
   "source": [
    "import subprocess\n",
    "import sys\n",
    "\n",
    "# Install streamlit if not installed\n",
    "subprocess.check_call([sys.executable, \"-m\", \"pip\", \"install\", \"streamlit\"])\n",
    "\n",
    "# Run the streamlit app\n",
    "subprocess.Popen([sys.executable, \"-m\", \"streamlit\", \"run\", \"app.py\"])\n"
   ]
  }
 ],
 "metadata": {
  "kernelspec": {
   "display_name": "Python 3 (ipykernel)",
   "language": "python",
   "name": "python3"
  },
  "language_info": {
   "codemirror_mode": {
    "name": "ipython",
    "version": 3
   },
   "file_extension": ".py",
   "mimetype": "text/x-python",
   "name": "python",
   "nbconvert_exporter": "python",
   "pygments_lexer": "ipython3",
   "version": "3.11.5"
  }
 },
 "nbformat": 4,
 "nbformat_minor": 5
}
